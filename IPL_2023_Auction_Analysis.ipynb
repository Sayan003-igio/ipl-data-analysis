{
 "cells": [
  {
   "cell_type": "markdown",
   "id": "ad23e0e3",
   "metadata": {},
   "source": [
    "\n",
    "# IPL 2023 Auction Data Analysis\n",
    "\n",
    "![IPL Logo](https://upload.wikimedia.org/wikipedia/en/6/6e/IPL_Logo.svg)\n",
    "\n",
    "## Objective:\n",
    "To explore and analyze the IPL 2023 auction data to identify player prices, team spending, unsold players, and key insights using Python and Pandas.\n"
   ]
  },
  {
   "cell_type": "code",
   "execution_count": null,
   "id": "fe5525b8",
   "metadata": {},
   "outputs": [],
   "source": [
    "\n",
    "import pandas as pd\n",
    "import matplotlib.pyplot as plt\n",
    "import seaborn as sns\n",
    "\n",
    "sns.set(style=\"whitegrid\")\n",
    "\n",
    "# Load dataset\n",
    "df = pd.read_csv(\"IPL_Squad_2023_Auction_Dataset.csv\")\n",
    "\n",
    "# Drop unnecessary columns\n",
    "if 'Unnamed: 0' in df.columns:\n",
    "    df.drop(['Unnamed: 0'], axis=1, inplace=True)\n",
    "\n",
    "df.head()\n"
   ]
  },
  {
   "cell_type": "markdown",
   "id": "a4416147",
   "metadata": {},
   "source": [
    "### Top 5 Most Expensive Players"
   ]
  },
  {
   "cell_type": "code",
   "execution_count": null,
   "id": "85955c1c",
   "metadata": {},
   "outputs": [],
   "source": [
    "\n",
    "df.sort_values(by=\"COST IN ₹ (CR.)\", ascending=False).head(5)[[\"Player's List\", \"COST IN ₹ (CR.)\"]]\n"
   ]
  },
  {
   "cell_type": "markdown",
   "id": "61410042",
   "metadata": {},
   "source": [
    "### Cheapest Buys (excluding ₹0)"
   ]
  },
  {
   "cell_type": "code",
   "execution_count": null,
   "id": "902a393c",
   "metadata": {},
   "outputs": [],
   "source": [
    "\n",
    "df[df[\"COST IN ₹ (CR.)\"] > 0].sort_values(by=\"COST IN ₹ (CR.)\").head(5)[[\"Player's List\", \"COST IN ₹ (CR.)\"]]\n"
   ]
  },
  {
   "cell_type": "markdown",
   "id": "0f6523d4",
   "metadata": {},
   "source": [
    "### Team-wise Total Spending"
   ]
  },
  {
   "cell_type": "code",
   "execution_count": null,
   "id": "8d9957f6",
   "metadata": {},
   "outputs": [],
   "source": [
    "\n",
    "team_spending = df.groupby(\"Team\")[\"COST IN ₹ (CR.)\"].sum().sort_values(ascending=False)\n",
    "team_spending.plot(kind='bar', figsize=(10, 6), title='Team-wise Spending (₹ Cr)', color='skyblue')\n",
    "plt.ylabel(\"₹ in Cr\")\n",
    "plt.xlabel(\"Team\")\n",
    "plt.xticks(rotation=45)\n",
    "plt.tight_layout()\n",
    "plt.show()\n"
   ]
  },
  {
   "cell_type": "markdown",
   "id": "bb391e6f",
   "metadata": {},
   "source": [
    "### Unsold Players"
   ]
  },
  {
   "cell_type": "code",
   "execution_count": null,
   "id": "4c375aee",
   "metadata": {},
   "outputs": [],
   "source": [
    "\n",
    "unsold_players = df[df[\"Team\"].isnull()]\n",
    "unsold_players[[\"Player's List\", \"TYPE\"]].head()\n"
   ]
  },
  {
   "cell_type": "markdown",
   "id": "9d264ebb",
   "metadata": {},
   "source": [
    "### Most Common Player Type Among Unsold"
   ]
  },
  {
   "cell_type": "code",
   "execution_count": null,
   "id": "4b81188d",
   "metadata": {},
   "outputs": [],
   "source": [
    "\n",
    "unsold_players[\"TYPE\"].value_counts().idxmax() if not unsold_players.empty else \"No unsold players\"\n"
   ]
  },
  {
   "cell_type": "markdown",
   "id": "03d3cc5f",
   "metadata": {},
   "source": [
    "### New Players Bought by Gujarat Titans"
   ]
  },
  {
   "cell_type": "code",
   "execution_count": null,
   "id": "b623d7cb",
   "metadata": {},
   "outputs": [],
   "source": [
    "\n",
    "df[(df[\"Team\"] == \"Gujarat Titans\") & (df[\"2022 Squad\"] != \"Gujarat Titans\")][[\"Player's List\", \"2022 Squad\"]]\n"
   ]
  },
  {
   "cell_type": "markdown",
   "id": "c5f88ced",
   "metadata": {},
   "source": [
    "### Total Money Spent by All Teams"
   ]
  },
  {
   "cell_type": "code",
   "execution_count": null,
   "id": "4c442522",
   "metadata": {},
   "outputs": [],
   "source": [
    "\n",
    "df[\"COST IN ₹ (CR.)\"].sum()\n"
   ]
  }
 ],
 "metadata": {},
 "nbformat": 4,
 "nbformat_minor": 5
}
