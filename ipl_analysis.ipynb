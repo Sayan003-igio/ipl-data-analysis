{
 "cells": [
  {
   "cell_type": "markdown",
   "id": "e835a87a",
   "metadata": {},
   "source": [
    "# IPL Data Analysis\n",
    "This notebook performs basic exploratory data analysis on the IPL dataset."
   ]
  },
  {
   "cell_type": "code",
   "execution_count": null,
   "id": "1733b5c3",
   "metadata": {},
   "outputs": [],
   "source": [
    "import pandas as pd\n",
    "import matplotlib.pyplot as plt\n",
    "import seaborn as sns"
   ]
  },
  {
   "cell_type": "markdown",
   "id": "d886dcc9",
   "metadata": {},
   "source": [
    "### Load the Datasets"
   ]
  },
  {
   "cell_type": "code",
   "execution_count": null,
   "id": "37e5042c",
   "metadata": {},
   "outputs": [],
   "source": [
    "matches = pd.read_csv('matches.csv')\n",
    "deliveries = pd.read_csv('deliveries.csv')\n",
    "matches.head()"
   ]
  },
  {
   "cell_type": "markdown",
   "id": "9fb3f5c5",
   "metadata": {},
   "source": [
    "### Total Matches Per Season"
   ]
  },
  {
   "cell_type": "code",
   "execution_count": null,
   "id": "110e2985",
   "metadata": {},
   "outputs": [],
   "source": [
    "matches_per_season = matches['season'].value_counts().sort_index()\n",
    "matches_per_season.plot(kind='bar', title='Matches Per Season')\n",
    "plt.xlabel('Season')\n",
    "plt.ylabel('Number of Matches')\n",
    "plt.show()"
   ]
  },
  {
   "cell_type": "markdown",
   "id": "bd010918",
   "metadata": {},
   "source": [
    "### Most Winning Teams"
   ]
  },
  {
   "cell_type": "code",
   "execution_count": null,
   "id": "80aa2420",
   "metadata": {},
   "outputs": [],
   "source": [
    "most_wins = matches['winner'].value_counts()\n",
    "most_wins.plot(kind='barh', title='Most Wins by Team')\n",
    "plt.xlabel('Wins')\n",
    "plt.ylabel('Team')\n",
    "plt.show()"
   ]
  },
  {
   "cell_type": "markdown",
   "id": "fb0e650e",
   "metadata": {},
   "source": [
    "### Top 10 Batsmen (Total Runs)"
   ]
  },
  {
   "cell_type": "code",
   "execution_count": null,
   "id": "901744af",
   "metadata": {},
   "outputs": [],
   "source": [
    "top_batsmen = deliveries.groupby('batsman')['batsman_runs'].sum().sort_values(ascending=False).head(10)\n",
    "top_batsmen.plot(kind='bar', title='Top 10 Batsmen by Total Runs')\n",
    "plt.xlabel('Batsman')\n",
    "plt.ylabel('Runs')\n",
    "plt.xticks(rotation=45)\n",
    "plt.show()"
   ]
  }
 ],
 "metadata": {},
 "nbformat": 4,
 "nbformat_minor": 5
}